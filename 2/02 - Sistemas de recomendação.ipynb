{
 "cells": [
  {
   "cell_type": "markdown",
   "metadata": {},
   "source": [
    "## Sistemas de recomendação"
   ]
  },
  {
   "cell_type": "markdown",
   "metadata": {},
   "source": [
    "Material baseado no post de Abhinav Ajitsaria sobre sistemas de recomendação, disponível em https://madewithml.com/topics/recommendation-systems/"
   ]
  },
  {
   "cell_type": "markdown",
   "metadata": {},
   "source": [
    "Sistemas de recomendação utilizam várias técnicas, entre elas a filtragem colaborativa. A filtragem colaborativa é uma técnica que pode filtrar itens que um usuário possa gostar com base nas reações de usuários semelhantes. Ele funciona pesquisando um grande grupo de pessoas e encontrando um conjunto menor de usuários com gostos semelhantes a um usuário específico. Ele analisa os itens de que gostam e os combina para criar uma lista classificada de sugestões.\n",
    "\n",
    "Para experimentar algoritmos de recomendação, você precisará de dados que contenham um conjunto de itens e um conjunto de usuários que reagiram a alguns dos itens. A reação pode ser explícita (avaliação em uma escala de 1 a 5, gosta ou não gosta) ou implícita (ver um item, adicioná-lo a uma lista de desejos, o tempo gasto em um artigo). Ao trabalhar com esses dados, você os verá principalmente na forma de uma matriz que consiste nas reações dadas por um conjunto de usuários a alguns itens de um conjunto de itens.\n",
    "\n",
    "Existem muitas maneiras de decidir quais usuários são semelhantes e combinar suas escolhas para criar uma lista de recomendações. Veremos a seguir, algumas formas de fazer isso com Python."
   ]
  },
  {
   "cell_type": "markdown",
   "metadata": {},
   "source": [
    "### Como identificar usuários com gostos parecidos na base"
   ]
  },
  {
   "cell_type": "markdown",
   "metadata": {},
   "source": [
    "Para entender o conceito de similaridade, vamos criar um conjunto de dados simples primeiro. Os dados incluem quatro usuários A, B, C e D, que avaliaram dois filmes. As classificações são armazenadas em listas e cada lista contém dois números que indicam a classificação de cada filme."
   ]
  },
  {
   "cell_type": "code",
   "execution_count": 1,
   "metadata": {},
   "outputs": [],
   "source": [
    "from scipy import spatial\n",
    "import matplotlib.pyplot as plt\n",
    "import pandas as pd\n",
    "\n",
    "a = [1, 2]\n",
    "b = [2, 4]\n",
    "c = [2.5, 4]\n",
    "d = [4.5, 5]\n",
    "\n",
    "labels = 'abcd'\n",
    "\n",
    "dataset = pd.DataFrame([a,b,c,d])\n",
    "\n",
    "plt.style.use(\"ggplot\")\n",
    "fig, ax = plt.subplots()\n",
    "ax.scatter(dataset[0], dataset[1])\n",
    "\n",
    "ax.set_xlim(0, 6)\n",
    "ax.set_ylim(0, 6)\n",
    "\n",
    "for i, item in enumerate([a,b,c,d]):\n",
    "    ax.annotate(labels[i], (item[0]+0.06, item[1]+0.06))"
   ]
  },
  {
   "cell_type": "code",
   "execution_count": 2,
   "metadata": {},
   "outputs": [
    {
     "name": "stdout",
     "output_type": "stream",
     "text": [
      "C para A: 2.5\n",
      "C para B: 0.5\n",
      "C para D: 2.23606797749979\n"
     ]
    }
   ],
   "source": [
    "print(\"C para A:\", spatial.distance.euclidean(c, a))\n",
    "print(\"C para B:\", spatial.distance.euclidean(c, b))\n",
    "print(\"C para D:\", spatial.distance.euclidean(c, d))"
   ]
  },
  {
   "cell_type": "markdown",
   "metadata": {},
   "source": [
    "Olhar para a distância entre os pontos parece ser uma boa maneira de estimar a similaridade. Usar a distância euclidiana para calcular a distância entre as classificações de A, B e D em relação a C nos mostra que, **em termos de distância, as classificações de C estão mais próximas das de B**. Mas considerando A e D, de quem C está mais próximo? Pode-se dizer que C está mais perto de D em termos de distância. \n",
    "\n",
    "No entanto, parece que as escolhas de C se alinham com as de A mais do que D, porque tanto A quanto C gostam do segundo filme quase duas vezes mais do que do primeiro, mas D gosta de ambos os filmes igualmente."
   ]
  },
  {
   "cell_type": "markdown",
   "metadata": {},
   "source": [
    "Para contornar essa dificuldade, você pode usar o **cosseno do ângulo para encontrar a semelhança entre dois usuários**. Para calcular a similaridade usando o ângulo, você precisa de uma função que retorne uma similaridade maior ou distância menor para um ângulo inferior e uma similaridade menor ou distância maior para um ângulo maior. O cosseno de um ângulo é uma função que diminui de 1 para -1 conforme o ângulo aumenta de 0 para 180. Quanto maior o ângulo, menor será o cosseno e, portanto, menor será a similaridade dos usuários. Você também pode inverter o valor do cosseno do ângulo para obter a distância do cosseno entre os usuários, subtraindo-o de 1."
   ]
  },
  {
   "cell_type": "code",
   "execution_count": 3,
   "metadata": {},
   "outputs": [
    {
     "name": "stdout",
     "output_type": "stream",
     "text": [
      "C para A: 0.004504527406047898\n",
      "C para B: 0.004504527406047898\n",
      "C para D: 0.015137225946083022\n"
     ]
    }
   ],
   "source": [
    "print(\"C para A:\", spatial.distance.cosine(c, a))\n",
    "print(\"C para B:\", spatial.distance.cosine(c, b))\n",
    "print(\"C para D:\", spatial.distance.cosine(c, d))"
   ]
  },
  {
   "cell_type": "markdown",
   "metadata": {},
   "source": [
    "A similaridade agora aponta que C tem gostos similares com A e B, mas mais diferente dos gostos de D."
   ]
  },
  {
   "cell_type": "markdown",
   "metadata": {},
   "source": [
    "### Modelo de sistemas de recomendação\n",
    "\n",
    "Para indicar itens a um determinado usuário, é necessário \"predizer\" qual seria a nota dada por um determinado usuário. Para isso, são consideradas as médias de notas para aquele item referente aos usuários mais parecidos. Para isso, vamos utilizar uma biblioteca de algoritmos de sistemas de recomendação chamada *surprise*."
   ]
  },
  {
   "cell_type": "code",
   "execution_count": 4,
   "metadata": {},
   "outputs": [
    {
     "name": "stdout",
     "output_type": "stream",
     "text": [
      "Requirement already satisfied: scikit-surprise in c:\\users\\pichau\\anaconda3\\lib\\site-packages (1.1.1)\n",
      "Requirement already satisfied: numpy>=1.11.2 in c:\\users\\pichau\\anaconda3\\lib\\site-packages (from scikit-surprise) (1.17.2+mkl)\n",
      "Requirement already satisfied: six>=1.10.0 in c:\\users\\pichau\\anaconda3\\lib\\site-packages (from scikit-surprise) (1.12.0)\n",
      "Requirement already satisfied: scipy>=1.0.0 in c:\\users\\pichau\\anaconda3\\lib\\site-packages (from scikit-surprise) (1.4.1)\n",
      "Requirement already satisfied: joblib>=0.11 in c:\\users\\pichau\\anaconda3\\lib\\site-packages (from scikit-surprise) (0.14.1)\n"
     ]
    }
   ],
   "source": [
    "!pip install scikit-surprise"
   ]
  },
  {
   "cell_type": "markdown",
   "metadata": {},
   "source": [
    "Para carregar os dados, a biblioteca surprise oferece alguns métodos. Como os dados precisam ser armazenados de maneira diferente, numa relação de itens por usuário, esses métodos acabam sendo úteis para converter datasets no formato tradicional."
   ]
  },
  {
   "cell_type": "code",
   "execution_count": 5,
   "metadata": {},
   "outputs": [],
   "source": [
    "import pandas as pd\n",
    "from surprise import Dataset\n",
    "from surprise import Reader\n",
    "\n",
    "# conjunto anterior, com o usuário E que só avaliou o filme 1\n",
    "ratings_dict = {\n",
    "    \"item\": [1, 2, 1, 2, 1, 2, 1, 2, 1],\n",
    "    \"user\": ['A', 'A', 'B', 'B', 'C', 'C', 'D', 'D', 'E'],\n",
    "    \"rating\": [1, 2, 2, 4, 2.5, 4, 4.5, 5, 3],\n",
    "}\n",
    "\n",
    "df = pd.DataFrame(ratings_dict)\n",
    "reader = Reader(rating_scale=(1, 5))\n",
    "\n",
    "# carregando a partir de dataframe do pandas\n",
    "data = Dataset.load_from_df(df[[\"user\", \"item\", \"rating\"]], reader)"
   ]
  },
  {
   "cell_type": "markdown",
   "metadata": {},
   "source": [
    "Para executar algum algoritmo de sistema de recomendação sobre o conjunto de dados é necessário definir qual método a ser utilizado e a biblioteca surprise traz vários implementados."
   ]
  },
  {
   "cell_type": "code",
   "execution_count": 6,
   "metadata": {},
   "outputs": [],
   "source": [
    "from surprise import KNNWithMeans\n",
    "\n",
    "knn_options = {\n",
    "    \"name\": \"cosine\",\n",
    "    \"user_based\": False,  # calcula similaridade entre os itens\n",
    "}\n",
    "\n",
    "algo = KNNWithMeans(sim_options=knn_options)"
   ]
  },
  {
   "cell_type": "markdown",
   "metadata": {},
   "source": [
    "Para experimentar este recomendador, você precisa criar um Trainset a partir de dados. O Trainset é construído usando os mesmos dados, mas contém mais informações sobre os dados, como o número de usuários e itens (n_users, n_items) que são usados pelo algoritmo. Você pode criá-lo usando todos os dados ou parte dos dados. Você também pode dividir os dados em partes, onde alguns dos dados serão usados para treinamento e outros para teste."
   ]
  },
  {
   "cell_type": "code",
   "execution_count": 7,
   "metadata": {},
   "outputs": [
    {
     "name": "stdout",
     "output_type": "stream",
     "text": [
      "Computing the cosine similarity matrix...\n",
      "Done computing similarity matrix.\n"
     ]
    },
    {
     "data": {
      "text/plain": [
       "<surprise.prediction_algorithms.knns.KNNWithMeans at 0x2172880d048>"
      ]
     },
     "execution_count": 7,
     "metadata": {},
     "output_type": "execute_result"
    }
   ],
   "source": [
    "trainingSet = data.build_full_trainset()\n",
    "algo.fit(trainingSet)"
   ]
  },
  {
   "cell_type": "markdown",
   "metadata": {},
   "source": [
    "Agora vamos estimar a nota que o usuário E daria para o filme 2."
   ]
  },
  {
   "cell_type": "code",
   "execution_count": 8,
   "metadata": {},
   "outputs": [
    {
     "data": {
      "text/plain": [
       "4.15"
      ]
     },
     "execution_count": 8,
     "metadata": {},
     "output_type": "execute_result"
    }
   ],
   "source": [
    "prediction = algo.predict('E', 2)\n",
    "prediction.est"
   ]
  },
  {
   "cell_type": "markdown",
   "metadata": {},
   "source": [
    "### Utilizando uma base de dados real"
   ]
  },
  {
   "cell_type": "code",
   "execution_count": 9,
   "metadata": {},
   "outputs": [
    {
     "name": "stdout",
     "output_type": "stream",
     "text": [
      "Computing the msd similarity matrix...\n",
      "Done computing similarity matrix.\n",
      "Computing the msd similarity matrix...\n",
      "Done computing similarity matrix.\n",
      "Computing the msd similarity matrix...\n",
      "Done computing similarity matrix.\n",
      "Computing the msd similarity matrix...\n",
      "Done computing similarity matrix.\n",
      "Computing the msd similarity matrix...\n",
      "Done computing similarity matrix.\n",
      "Computing the msd similarity matrix...\n",
      "Done computing similarity matrix.\n",
      "Computing the msd similarity matrix...\n",
      "Done computing similarity matrix.\n",
      "Computing the msd similarity matrix...\n",
      "Done computing similarity matrix.\n",
      "Computing the msd similarity matrix...\n",
      "Done computing similarity matrix.\n",
      "Computing the msd similarity matrix...\n",
      "Done computing similarity matrix.\n",
      "Computing the msd similarity matrix...\n",
      "Done computing similarity matrix.\n",
      "Computing the msd similarity matrix...\n",
      "Done computing similarity matrix.\n",
      "Computing the msd similarity matrix...\n",
      "Done computing similarity matrix.\n",
      "Computing the msd similarity matrix...\n",
      "Done computing similarity matrix.\n",
      "Computing the msd similarity matrix...\n",
      "Done computing similarity matrix.\n",
      "Computing the msd similarity matrix...\n",
      "Done computing similarity matrix.\n",
      "Computing the msd similarity matrix...\n",
      "Done computing similarity matrix.\n",
      "Computing the msd similarity matrix...\n",
      "Done computing similarity matrix.\n",
      "Computing the cosine similarity matrix...\n",
      "Done computing similarity matrix.\n",
      "Computing the cosine similarity matrix...\n",
      "Done computing similarity matrix.\n",
      "Computing the cosine similarity matrix...\n",
      "Done computing similarity matrix.\n",
      "Computing the cosine similarity matrix...\n",
      "Done computing similarity matrix.\n",
      "Computing the cosine similarity matrix...\n",
      "Done computing similarity matrix.\n",
      "Computing the cosine similarity matrix...\n",
      "Done computing similarity matrix.\n",
      "Computing the cosine similarity matrix...\n",
      "Done computing similarity matrix.\n",
      "Computing the cosine similarity matrix...\n",
      "Done computing similarity matrix.\n",
      "Computing the cosine similarity matrix...\n",
      "Done computing similarity matrix.\n",
      "Computing the cosine similarity matrix...\n",
      "Done computing similarity matrix.\n",
      "Computing the cosine similarity matrix...\n",
      "Done computing similarity matrix.\n",
      "Computing the cosine similarity matrix...\n",
      "Done computing similarity matrix.\n",
      "Computing the cosine similarity matrix...\n",
      "Done computing similarity matrix.\n",
      "Computing the cosine similarity matrix...\n",
      "Done computing similarity matrix.\n",
      "Computing the cosine similarity matrix...\n",
      "Done computing similarity matrix.\n",
      "Computing the cosine similarity matrix...\n",
      "Done computing similarity matrix.\n",
      "Computing the cosine similarity matrix...\n",
      "Done computing similarity matrix.\n",
      "Computing the cosine similarity matrix...\n",
      "Done computing similarity matrix.\n",
      "0.9454333299137808\n",
      "{'sim_options': {'name': 'msd', 'min_support': 3, 'user_based': False}}\n"
     ]
    }
   ],
   "source": [
    "from surprise.model_selection import GridSearchCV\n",
    "\n",
    "data = Dataset.load_builtin(\"ml-100k\")\n",
    "\n",
    "options = {\n",
    "    \"name\": [\"msd\", \"cosine\"],\n",
    "    \"min_support\": [3, 4, 5],\n",
    "    \"user_based\": [False, True],\n",
    "}\n",
    "\n",
    "param_grid = {\"sim_options\": options}\n",
    "\n",
    "gs = GridSearchCV(KNNWithMeans, param_grid, measures=[\"rmse\", \"mae\"], cv=3)\n",
    "gs.fit(data)\n",
    "\n",
    "print(gs.best_score[\"rmse\"])\n",
    "print(gs.best_params[\"rmse\"])"
   ]
  },
  {
   "cell_type": "markdown",
   "metadata": {},
   "source": [
    "O retorno do método aponta **0,94 de RMSE** e os melhores parâmetros foram o método msd, suporte mínimo de 3, com a abordagem baseada em itens."
   ]
  },
  {
   "cell_type": "markdown",
   "metadata": {},
   "source": [
    "---\n",
    "\n",
    "## AC2 - Não-supervisionado\n",
    "\n",
    "A primeira atividade da AC2 para entregar dia 30/08 consiste em avaliar outros 2 algoritmos disponíveis na biblioteca Surprise, mantendo fixo a validação cruzada com 3 partições (cv=3). Deve existir uma explicação minimalista dos métodos e dos parâmetros avaliados. Os parâmetros avaliados devem ser pelo menos 2 para os métodos diferentes. **Essa atividade pode ser feita em grupos de até 4 pessoas.**"
   ]
  },
  {
   "cell_type": "code",
   "execution_count": null,
   "metadata": {},
   "outputs": [],
   "source": []
  }
 ],
 "metadata": {
  "kernelspec": {
   "display_name": "Python 3",
   "language": "python",
   "name": "python3"
  },
  "language_info": {
   "codemirror_mode": {
    "name": "ipython",
    "version": 3
   },
   "file_extension": ".py",
   "mimetype": "text/x-python",
   "name": "python",
   "nbconvert_exporter": "python",
   "pygments_lexer": "ipython3",
   "version": "3.7.3"
  }
 },
 "nbformat": 4,
 "nbformat_minor": 2
}
